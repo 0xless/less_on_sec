{
 "cells": [
  {
   "cell_type": "markdown",
   "metadata": {},
   "source": [
    "## Network attacks"
   ]
  },
  {
   "cell_type": "code",
   "execution_count": 1,
   "metadata": {},
   "outputs": [],
   "source": [
    "import telnetlib\n",
    "import json\n",
    "\n",
    "HOST = \"socket.cryptohack.org\"\n",
    "PORT = 11112\n",
    "\n",
    "tn = telnetlib.Telnet(HOST, PORT)\n",
    "\n",
    "def readline():\n",
    "    return tn.read_until(b\"\\n\")\n",
    "\n",
    "def json_recv():\n",
    "    line = readline()\n",
    "    return json.loads(line.decode())\n",
    "\n",
    "def json_send(hsh):\n",
    "    request = json.dumps(hsh).encode()\n",
    "    tn.write(request)"
   ]
  },
  {
   "cell_type": "code",
   "execution_count": 2,
   "metadata": {},
   "outputs": [
    {
     "name": "stdout",
     "output_type": "stream",
     "text": [
      "b\"Welcome to netcat's flag shop!\\n\"\n",
      "b'What would you like to buy?\\n'\n",
      "b\"I only speak JSON, I hope that's ok.\\n\"\n",
      "b'\\n'\n"
     ]
    }
   ],
   "source": [
    "print(readline())\n",
    "print(readline())\n",
    "print(readline())\n",
    "print(readline())"
   ]
  },
  {
   "cell_type": "code",
   "execution_count": 3,
   "metadata": {},
   "outputs": [
    {
     "name": "stdout",
     "output_type": "stream",
     "text": [
      "{'error': 'Sorry! All we have to sell are flags.'}\n"
     ]
    }
   ],
   "source": [
    "# Compose a request for the server\n",
    "request = {\n",
    "    \"buy\": \"clothes\"\n",
    "}\n",
    "\n",
    "# Sends the request\n",
    "json_send(request)\n",
    "\n",
    "# Gets the response\n",
    "response = json_recv()\n",
    "print(response)"
   ]
  },
  {
   "cell_type": "code",
   "execution_count": 4,
   "metadata": {},
   "outputs": [
    {
     "name": "stdout",
     "output_type": "stream",
     "text": [
      "{'flag': 'crypto{sh0pp1ng_f0r_fl4g5}'}\n"
     ]
    }
   ],
   "source": [
    "# mhhh flags you say?\n",
    "request = {\n",
    "    \"buy\": \"flag\"\n",
    "}\n",
    "\n",
    "# Sends the request\n",
    "json_send(request)\n",
    "\n",
    "# Gets the response\n",
    "response = json_recv()\n",
    "print(response)"
   ]
  },
  {
   "cell_type": "markdown",
   "metadata": {},
   "source": [
    "### Encodings"
   ]
  },
  {
   "cell_type": "code",
   "execution_count": 5,
   "metadata": {},
   "outputs": [
    {
     "name": "stdout",
     "output_type": "stream",
     "text": [
      "crypto{ASCII_pr1nt4bl3}\n"
     ]
    }
   ],
   "source": [
    "# ASCII values to decode\n",
    "values = [99, 114, 121, 112, 116, 111, 123, 65, 83, 67, 73, 73, 95, 112, 114, 49, 110, 116, 52, 98, 108, 51, 125]\n",
    "\n",
    "solution = \"\"\n",
    "for v in values:\n",
    "    solution += chr(v)\n",
    "    \n",
    "print(solution)"
   ]
  },
  {
   "cell_type": "code",
   "execution_count": 6,
   "metadata": {},
   "outputs": [
    {
     "name": "stdout",
     "output_type": "stream",
     "text": [
      "crypto{You_will_be_working_with_hex_strings_a_lot}\n"
     ]
    }
   ],
   "source": [
    "values = \"63727970746f7b596f755f77696c6c5f62655f776f726b696e675f776974685f6865785f737472696e67735f615f6c6f747d\"\n",
    "\n",
    "solution = bytes.fromhex(values).decode('utf-8')\n",
    "\n",
    "print(solution)"
   ]
  },
  {
   "cell_type": "code",
   "execution_count": 7,
   "metadata": {},
   "outputs": [
    {
     "name": "stdout",
     "output_type": "stream",
     "text": [
      "crypto/Base+64+Encoding+is+Web+Safe/\n"
     ]
    }
   ],
   "source": [
    "import base64\n",
    "\n",
    "values = \"72bca9b68fc16ac7beeb8f849dca1d8a783e8acf9679bf9269f7bf\"\n",
    "\n",
    "tmp = bytes.fromhex(values)\n",
    "#print(tmp)\n",
    "solution = base64.b64encode(tmp).decode('utf-8')\n",
    "\n",
    "print(solution)"
   ]
  },
  {
   "cell_type": "code",
   "execution_count": 8,
   "metadata": {},
   "outputs": [
    {
     "name": "stdout",
     "output_type": "stream",
     "text": [
      "crypto{3nc0d1n6_4ll_7h3_w4y_d0wn}\n"
     ]
    }
   ],
   "source": [
    "from Crypto.Util.number import long_to_bytes\n",
    "\n",
    "values = 11515195063862318899931685488813747395775516287289682636499965282714637259206269\n",
    "\n",
    "solution = long_to_bytes(values).decode('utf-8')\n",
    "\n",
    "print(solution)"
   ]
  },
  {
   "cell_type": "code",
   "execution_count": 9,
   "metadata": {},
   "outputs": [
    {
     "name": "stdout",
     "output_type": "stream",
     "text": [
      "crypto{aloha}\n"
     ]
    }
   ],
   "source": [
    "# Provided string\n",
    "values = \"label\"\n",
    "\n",
    "solution = \"\"\n",
    "for v in values:\n",
    "    solution += chr(ord(v) ^ 13)\n",
    "    \n",
    "# The {{{var}}} syntax is needed to excape curly braces in python f-strings\n",
    "print(f\"crypto{{{solution}}}\")"
   ]
  },
  {
   "cell_type": "markdown",
   "metadata": {},
   "source": [
    "### Mathematics"
   ]
  },
  {
   "cell_type": "code",
   "execution_count": 10,
   "metadata": {},
   "outputs": [
    {
     "data": {
      "text/plain": [
       "702"
      ]
     },
     "execution_count": 10,
     "metadata": {},
     "output_type": "execute_result"
    }
   ],
   "source": [
    "v = (2,6,3)\n",
    "w = (1,0,0)\n",
    "u = (7,7,2)\n",
    "\n",
    "def vector_minus(a, b):\n",
    "   return [x - y for x, y in zip(a,b)]\n",
    "\n",
    "def vector_dot(a,b):\n",
    "    return sum([x * y for x, y in zip(a,b)])\n",
    "    \n",
    "def scalar_times(a, times):\n",
    "    return list(map( lambda x: x * times , a))\n",
    "\n",
    "# calculate 3*(2*v - w) ∙ 2*u\n",
    "vector_dot(scalar_times(vector_minus(scalar_times(v, 2), w), 3), scalar_times(u, 2))"
   ]
  },
  {
   "cell_type": "markdown",
   "metadata": {},
   "source": [
    "## Diffie-Hellman"
   ]
  },
  {
   "cell_type": "code",
   "execution_count": 11,
   "metadata": {},
   "outputs": [
    {
     "name": "stdout",
     "output_type": "stream",
     "text": [
      "569\n"
     ]
    }
   ],
   "source": [
    "g = 209\n",
    "p = 991\n",
    "fc = 1\n",
    "\n",
    "for x in range(1, p):    \n",
    "    if (g * x) % p == fc:         \n",
    "        print(x)        \n",
    "        break"
   ]
  }
 ],
 "metadata": {
  "kernelspec": {
   "display_name": "Python 3",
   "language": "python",
   "name": "python3"
  },
  "language_info": {
   "codemirror_mode": {
    "name": "ipython",
    "version": 3
   },
   "file_extension": ".py",
   "mimetype": "text/x-python",
   "name": "python",
   "nbconvert_exporter": "python",
   "pygments_lexer": "ipython3",
   "version": "3.7.3"
  }
 },
 "nbformat": 4,
 "nbformat_minor": 2
}
